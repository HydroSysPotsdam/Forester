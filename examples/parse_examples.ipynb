{
 "cells": [
  {
   "cell_type": "code",
   "execution_count": 5,
   "metadata": {
    "collapsed": true
   },
   "outputs": [],
   "source": [
    "import src.forester.parser as parser\n",
    "import os\n",
    "import json"
   ]
  },
  {
   "cell_type": "markdown",
   "source": [
    "**Matlab Fanny**"
   ],
   "metadata": {
    "collapsed": false
   }
  },
  {
   "cell_type": "code",
   "execution_count": 14,
   "outputs": [
    {
     "name": "stdout",
     "output_type": "stream",
     "text": [
      "20:29:19 | INFO     |      parse     :120 | Loading CART structure from file /Users/david/Dokumente Lokal/UP/Work/Forester/examples/Matlab Fanny/input.json\n",
      "20:29:19 | INFO     | _parse_fitctree:272 | CART originates from MATLAB's function fitctree\n"
     ]
    }
   ],
   "source": [
    "# parse file\n",
    "path = os.path.abspath(\"./Matlab Fanny/input.json\")\n",
    "r = parser.parse(path, vendor=\"Matlab\", origin=\"fitctree\")\n",
    "\n",
    "# store file\n",
    "file = open(os.path.dirname(path) + \"/tree.json\", \"w+\")\n",
    "file.write(json.dumps(r))\n",
    "file.close()"
   ],
   "metadata": {
    "collapsed": false
   }
  },
  {
   "cell_type": "markdown",
   "source": [
    "**Matlab Iris**"
   ],
   "metadata": {
    "collapsed": false
   }
  },
  {
   "cell_type": "code",
   "execution_count": 15,
   "outputs": [
    {
     "name": "stdout",
     "output_type": "stream",
     "text": [
      "20:30:22 | INFO     |      parse     :120 | Loading CART structure from file /Users/david/Dokumente Lokal/UP/Work/Forester/examples/Matlab Iris/input.json\n",
      "20:30:22 | INFO     | _parse_fitctree:272 | CART originates from MATLAB's function fitctree\n"
     ]
    }
   ],
   "source": [
    "# parse file\n",
    "path = os.path.abspath(\"./Matlab Iris/input.json\")\n",
    "r = parser.parse(path, vendor=\"Matlab\", origin=\"fitctree\")\n",
    "\n",
    "# store file\n",
    "file = open(os.path.dirname(path) + \"/tree.json\", \"w+\")\n",
    "file.write(json.dumps(r))\n",
    "file.close()"
   ],
   "metadata": {
    "collapsed": false
   }
  },
  {
   "cell_type": "markdown",
   "source": [
    "**R Diabetes**"
   ],
   "metadata": {
    "collapsed": false
   }
  },
  {
   "cell_type": "code",
   "execution_count": 16,
   "outputs": [
    {
     "name": "stdout",
     "output_type": "stream",
     "text": [
      "20:31:19 | INFO     |      parse     :120 | Loading CART structure from file /Users/david/Dokumente Lokal/UP/Work/Forester/examples/R Diabetes/input.RData\n",
      "20:31:19 | INFO     | _parse_rpart_class:190 | CART originates from 'rpart' and is a classification tree\n"
     ]
    }
   ],
   "source": [
    "# parse file\n",
    "path = os.path.abspath(\"./R Diabetes/input.RData\")\n",
    "r = parser.parse(path, vendor=\"R\", origin=\"rpart\")\n",
    "\n",
    "# store file\n",
    "file = open(os.path.dirname(path) + \"/tree.json\", \"w+\")\n",
    "file.write(json.dumps(r))\n",
    "file.close()"
   ],
   "metadata": {
    "collapsed": false
   }
  },
  {
   "cell_type": "markdown",
   "source": [
    "**R Iris**"
   ],
   "metadata": {
    "collapsed": false
   }
  },
  {
   "cell_type": "code",
   "execution_count": 17,
   "outputs": [
    {
     "name": "stdout",
     "output_type": "stream",
     "text": [
      "20:32:03 | INFO     |      parse     :120 | Loading CART structure from file /Users/david/Dokumente Lokal/UP/Work/Forester/examples/R Iris/input.RData\n",
      "20:32:03 | INFO     | _parse_rpart_class:190 | CART originates from 'rpart' and is a classification tree\n"
     ]
    }
   ],
   "source": [
    "# parse file\n",
    "path = os.path.abspath(\"./R Iris/input.RData\")\n",
    "r = parser.parse(path, vendor=\"R\", origin=\"rpart\")\n",
    "\n",
    "# store file\n",
    "file = open(os.path.dirname(path) + \"/tree.json\", \"w+\")\n",
    "file.write(json.dumps(r))\n",
    "file.close()"
   ],
   "metadata": {
    "collapsed": false
   }
  }
 ],
 "metadata": {
  "kernelspec": {
   "display_name": "Python 3",
   "language": "python",
   "name": "python3"
  },
  "language_info": {
   "codemirror_mode": {
    "name": "ipython",
    "version": 2
   },
   "file_extension": ".py",
   "mimetype": "text/x-python",
   "name": "python",
   "nbconvert_exporter": "python",
   "pygments_lexer": "ipython2",
   "version": "2.7.6"
  }
 },
 "nbformat": 4,
 "nbformat_minor": 0
}
